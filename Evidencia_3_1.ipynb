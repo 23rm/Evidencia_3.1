{
 "cells": [
  {
   "cell_type": "markdown",
   "id": "cff76a34-5230-4bbb-8c6a-2258f0c75c69",
   "metadata": {},
   "source": [
    "# **Evidencia 3.1**"
   ]
  },
  {
   "cell_type": "markdown",
   "id": "43df7e5f-aba8-4b87-85aa-461eb7257e2c",
   "metadata": {},
   "source": [
    "Elaborar una libreta Jupyter que contenga un programa que serialice a pickle un objeto, y que lo almacene en un archivo binario de extensión pickle. Debe ser posible la recuperación del contenido del archivo, mismo que debe poderse deserializarse, y obtener el objeto original."
   ]
  },
  {
   "cell_type": "code",
   "execution_count": 27,
   "id": "997684f4-f051-4904-8a24-c43ab7e18bdd",
   "metadata": {},
   "outputs": [
    {
     "name": "stdout",
     "output_type": "stream",
     "text": [
      "[['Harry Potter'], ['J.K. Rowling'], ['1999']]\n",
      "b'\\x80\\x04\\x953\\x00\\x00\\x00\\x00\\x00\\x00\\x00]\\x94(]\\x94\\x8c\\x0cHarry Potter\\x94a]\\x94\\x8c\\x0cJ.K. Rowling\\x94a]\\x94\\x8c\\x041999\\x94ae.'\n",
      "[['Harry Potter'], ['J.K. Rowling'], ['1999']]\n",
      "True\n"
     ]
    }
   ],
   "source": [
    "#Para poder serializar un objeto a pickle lo primero que se debe hacer es importar esa biblioteca\n",
    "import pickle\n",
    "\n",
    "#Creamos una lista\n",
    "Libro_Original=[\n",
    "    [\"Harry Potter\"],\n",
    "    [\"J.K. Rowling\"],\n",
    "    [\"1999\"]\n",
    "]   \n",
    "print(Libro_Original)\n",
    "\n",
    "#Serialización a pickle\n",
    "Libro_pickle=pickle.dumps(Libro_Original)\n",
    "print(Libro_pickle)\n",
    "\n",
    "# Grabando el pickle en un archivo.\n",
    "with open(\"archivo.pickle\",\"wb\") as archivo_pkl:\n",
    "    pickle.dump(Libro_Original,archivo_pkl)\n",
    "\n",
    "# Leyendo datos de un archivo pickle y haciendo la deserialización \n",
    "with open(\"archivo.pickle\",\"rb\") as archivo_pkl:\n",
    "    Libro_recuperado=pickle.load(archivo_pkl)\n",
    "    \n",
    "print(Libro_recuperado)\n",
    "\n",
    "#Se compara que ambas listas sean iguales, para saber si se recupero correctamente el obketo original\n",
    "print(Libro_Original==Libro_recuperado)\n"
   ]
  }
 ],
 "metadata": {
  "kernelspec": {
   "display_name": "anaconda-panel-2023.05-py310",
   "language": "python",
   "name": "conda-env-anaconda-panel-2023.05-py310-py"
  },
  "language_info": {
   "codemirror_mode": {
    "name": "ipython",
    "version": 3
   },
   "file_extension": ".py",
   "mimetype": "text/x-python",
   "name": "python",
   "nbconvert_exporter": "python",
   "pygments_lexer": "ipython3",
   "version": "3.11.5"
  }
 },
 "nbformat": 4,
 "nbformat_minor": 5
}
